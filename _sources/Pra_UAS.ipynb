{
  "nbformat": 4,
  "nbformat_minor": 0,
  "metadata": {
    "colab": {
      "provenance": []
    },
    "kernelspec": {
      "name": "python3",
      "display_name": "Python 3"
    },
    "language_info": {
      "name": "python"
    },
    "widgets": {
      "application/vnd.jupyter.widget-state+json": {
        "ecd555461e8c4d4f85e124b00f6149c5": {
          "model_module": "@jupyter-widgets/controls",
          "model_name": "HBoxModel",
          "model_module_version": "1.5.0",
          "state": {
            "_dom_classes": [],
            "_model_module": "@jupyter-widgets/controls",
            "_model_module_version": "1.5.0",
            "_model_name": "HBoxModel",
            "_view_count": null,
            "_view_module": "@jupyter-widgets/controls",
            "_view_module_version": "1.5.0",
            "_view_name": "HBoxView",
            "box_style": "",
            "children": [
              "IPY_MODEL_040be91992084779b39414c6f4c61e4b",
              "IPY_MODEL_5664fbb4f7964e609a4d1e8f6d3f030f",
              "IPY_MODEL_94badfb75df84b84bf3f2c5b4e973b9b"
            ],
            "layout": "IPY_MODEL_5dda1f5bc7b5430ca6b88b7c40ed61b2"
          }
        },
        "040be91992084779b39414c6f4c61e4b": {
          "model_module": "@jupyter-widgets/controls",
          "model_name": "HTMLModel",
          "model_module_version": "1.5.0",
          "state": {
            "_dom_classes": [],
            "_model_module": "@jupyter-widgets/controls",
            "_model_module_version": "1.5.0",
            "_model_name": "HTMLModel",
            "_view_count": null,
            "_view_module": "@jupyter-widgets/controls",
            "_view_module_version": "1.5.0",
            "_view_name": "HTMLView",
            "description": "",
            "description_tooltip": null,
            "layout": "IPY_MODEL_735fa456cc824b13b8d8319c5e2118e3",
            "placeholder": "​",
            "style": "IPY_MODEL_bfdb5095f672427b9bf0fad3a4fdd1e2",
            "value": "100%"
          }
        },
        "5664fbb4f7964e609a4d1e8f6d3f030f": {
          "model_module": "@jupyter-widgets/controls",
          "model_name": "FloatProgressModel",
          "model_module_version": "1.5.0",
          "state": {
            "_dom_classes": [],
            "_model_module": "@jupyter-widgets/controls",
            "_model_module_version": "1.5.0",
            "_model_name": "FloatProgressModel",
            "_view_count": null,
            "_view_module": "@jupyter-widgets/controls",
            "_view_module_version": "1.5.0",
            "_view_name": "ProgressView",
            "bar_style": "success",
            "description": "",
            "description_tooltip": null,
            "layout": "IPY_MODEL_1ea1944fb72445bcad6ffaebe007dff0",
            "max": 20,
            "min": 0,
            "orientation": "horizontal",
            "style": "IPY_MODEL_c6a27fb418e64ae8a4030cc1f0b49961",
            "value": 20
          }
        },
        "94badfb75df84b84bf3f2c5b4e973b9b": {
          "model_module": "@jupyter-widgets/controls",
          "model_name": "HTMLModel",
          "model_module_version": "1.5.0",
          "state": {
            "_dom_classes": [],
            "_model_module": "@jupyter-widgets/controls",
            "_model_module_version": "1.5.0",
            "_model_name": "HTMLModel",
            "_view_count": null,
            "_view_module": "@jupyter-widgets/controls",
            "_view_module_version": "1.5.0",
            "_view_name": "HTMLView",
            "description": "",
            "description_tooltip": null,
            "layout": "IPY_MODEL_e9310b1b8f4547ce9e714c3e6eebd178",
            "placeholder": "​",
            "style": "IPY_MODEL_338f380c0b7b49a8a7bd45e662b58ee4",
            "value": " 20/20 [01:27&lt;00:00,  2.27s/it]"
          }
        },
        "5dda1f5bc7b5430ca6b88b7c40ed61b2": {
          "model_module": "@jupyter-widgets/base",
          "model_name": "LayoutModel",
          "model_module_version": "1.2.0",
          "state": {
            "_model_module": "@jupyter-widgets/base",
            "_model_module_version": "1.2.0",
            "_model_name": "LayoutModel",
            "_view_count": null,
            "_view_module": "@jupyter-widgets/base",
            "_view_module_version": "1.2.0",
            "_view_name": "LayoutView",
            "align_content": null,
            "align_items": null,
            "align_self": null,
            "border": null,
            "bottom": null,
            "display": null,
            "flex": null,
            "flex_flow": null,
            "grid_area": null,
            "grid_auto_columns": null,
            "grid_auto_flow": null,
            "grid_auto_rows": null,
            "grid_column": null,
            "grid_gap": null,
            "grid_row": null,
            "grid_template_areas": null,
            "grid_template_columns": null,
            "grid_template_rows": null,
            "height": null,
            "justify_content": null,
            "justify_items": null,
            "left": null,
            "margin": null,
            "max_height": null,
            "max_width": null,
            "min_height": null,
            "min_width": null,
            "object_fit": null,
            "object_position": null,
            "order": null,
            "overflow": null,
            "overflow_x": null,
            "overflow_y": null,
            "padding": null,
            "right": null,
            "top": null,
            "visibility": null,
            "width": null
          }
        },
        "735fa456cc824b13b8d8319c5e2118e3": {
          "model_module": "@jupyter-widgets/base",
          "model_name": "LayoutModel",
          "model_module_version": "1.2.0",
          "state": {
            "_model_module": "@jupyter-widgets/base",
            "_model_module_version": "1.2.0",
            "_model_name": "LayoutModel",
            "_view_count": null,
            "_view_module": "@jupyter-widgets/base",
            "_view_module_version": "1.2.0",
            "_view_name": "LayoutView",
            "align_content": null,
            "align_items": null,
            "align_self": null,
            "border": null,
            "bottom": null,
            "display": null,
            "flex": null,
            "flex_flow": null,
            "grid_area": null,
            "grid_auto_columns": null,
            "grid_auto_flow": null,
            "grid_auto_rows": null,
            "grid_column": null,
            "grid_gap": null,
            "grid_row": null,
            "grid_template_areas": null,
            "grid_template_columns": null,
            "grid_template_rows": null,
            "height": null,
            "justify_content": null,
            "justify_items": null,
            "left": null,
            "margin": null,
            "max_height": null,
            "max_width": null,
            "min_height": null,
            "min_width": null,
            "object_fit": null,
            "object_position": null,
            "order": null,
            "overflow": null,
            "overflow_x": null,
            "overflow_y": null,
            "padding": null,
            "right": null,
            "top": null,
            "visibility": null,
            "width": null
          }
        },
        "bfdb5095f672427b9bf0fad3a4fdd1e2": {
          "model_module": "@jupyter-widgets/controls",
          "model_name": "DescriptionStyleModel",
          "model_module_version": "1.5.0",
          "state": {
            "_model_module": "@jupyter-widgets/controls",
            "_model_module_version": "1.5.0",
            "_model_name": "DescriptionStyleModel",
            "_view_count": null,
            "_view_module": "@jupyter-widgets/base",
            "_view_module_version": "1.2.0",
            "_view_name": "StyleView",
            "description_width": ""
          }
        },
        "1ea1944fb72445bcad6ffaebe007dff0": {
          "model_module": "@jupyter-widgets/base",
          "model_name": "LayoutModel",
          "model_module_version": "1.2.0",
          "state": {
            "_model_module": "@jupyter-widgets/base",
            "_model_module_version": "1.2.0",
            "_model_name": "LayoutModel",
            "_view_count": null,
            "_view_module": "@jupyter-widgets/base",
            "_view_module_version": "1.2.0",
            "_view_name": "LayoutView",
            "align_content": null,
            "align_items": null,
            "align_self": null,
            "border": null,
            "bottom": null,
            "display": null,
            "flex": null,
            "flex_flow": null,
            "grid_area": null,
            "grid_auto_columns": null,
            "grid_auto_flow": null,
            "grid_auto_rows": null,
            "grid_column": null,
            "grid_gap": null,
            "grid_row": null,
            "grid_template_areas": null,
            "grid_template_columns": null,
            "grid_template_rows": null,
            "height": null,
            "justify_content": null,
            "justify_items": null,
            "left": null,
            "margin": null,
            "max_height": null,
            "max_width": null,
            "min_height": null,
            "min_width": null,
            "object_fit": null,
            "object_position": null,
            "order": null,
            "overflow": null,
            "overflow_x": null,
            "overflow_y": null,
            "padding": null,
            "right": null,
            "top": null,
            "visibility": null,
            "width": null
          }
        },
        "c6a27fb418e64ae8a4030cc1f0b49961": {
          "model_module": "@jupyter-widgets/controls",
          "model_name": "ProgressStyleModel",
          "model_module_version": "1.5.0",
          "state": {
            "_model_module": "@jupyter-widgets/controls",
            "_model_module_version": "1.5.0",
            "_model_name": "ProgressStyleModel",
            "_view_count": null,
            "_view_module": "@jupyter-widgets/base",
            "_view_module_version": "1.2.0",
            "_view_name": "StyleView",
            "bar_color": null,
            "description_width": ""
          }
        },
        "e9310b1b8f4547ce9e714c3e6eebd178": {
          "model_module": "@jupyter-widgets/base",
          "model_name": "LayoutModel",
          "model_module_version": "1.2.0",
          "state": {
            "_model_module": "@jupyter-widgets/base",
            "_model_module_version": "1.2.0",
            "_model_name": "LayoutModel",
            "_view_count": null,
            "_view_module": "@jupyter-widgets/base",
            "_view_module_version": "1.2.0",
            "_view_name": "LayoutView",
            "align_content": null,
            "align_items": null,
            "align_self": null,
            "border": null,
            "bottom": null,
            "display": null,
            "flex": null,
            "flex_flow": null,
            "grid_area": null,
            "grid_auto_columns": null,
            "grid_auto_flow": null,
            "grid_auto_rows": null,
            "grid_column": null,
            "grid_gap": null,
            "grid_row": null,
            "grid_template_areas": null,
            "grid_template_columns": null,
            "grid_template_rows": null,
            "height": null,
            "justify_content": null,
            "justify_items": null,
            "left": null,
            "margin": null,
            "max_height": null,
            "max_width": null,
            "min_height": null,
            "min_width": null,
            "object_fit": null,
            "object_position": null,
            "order": null,
            "overflow": null,
            "overflow_x": null,
            "overflow_y": null,
            "padding": null,
            "right": null,
            "top": null,
            "visibility": null,
            "width": null
          }
        },
        "338f380c0b7b49a8a7bd45e662b58ee4": {
          "model_module": "@jupyter-widgets/controls",
          "model_name": "DescriptionStyleModel",
          "model_module_version": "1.5.0",
          "state": {
            "_model_module": "@jupyter-widgets/controls",
            "_model_module_version": "1.5.0",
            "_model_name": "DescriptionStyleModel",
            "_view_count": null,
            "_view_module": "@jupyter-widgets/base",
            "_view_module_version": "1.2.0",
            "_view_name": "StyleView",
            "description_width": ""
          }
        }
      }
    }
  },
  "cells": [
    {
      "cell_type": "markdown",
      "source": [
        "#Pra_UAS"
      ],
      "metadata": {
        "id": "OpLYi7bjj7GS"
      }
    },
    {
      "cell_type": "markdown",
      "source": [
        "##Crawling berita dari Detik.com"
      ],
      "metadata": {
        "id": "9OTQax_RkDae"
      }
    },
    {
      "cell_type": "code",
      "execution_count": 32,
      "metadata": {
        "colab": {
          "base_uri": "https://localhost:8080/"
        },
        "id": "EODPBGNEj3h_",
        "outputId": "dce80bbe-3729-45d9-d620-9974bc16bf94"
      },
      "outputs": [
        {
          "output_type": "stream",
          "name": "stdout",
          "text": [
            "Requirement already satisfied: requests in /usr/local/lib/python3.10/dist-packages (2.31.0)\n",
            "Requirement already satisfied: charset-normalizer<4,>=2 in /usr/local/lib/python3.10/dist-packages (from requests) (3.3.2)\n",
            "Requirement already satisfied: idna<4,>=2.5 in /usr/local/lib/python3.10/dist-packages (from requests) (2.10)\n",
            "Requirement already satisfied: urllib3<3,>=1.21.1 in /usr/local/lib/python3.10/dist-packages (from requests) (2.0.7)\n",
            "Requirement already satisfied: certifi>=2017.4.17 in /usr/local/lib/python3.10/dist-packages (from requests) (2023.11.17)\n",
            "Requirement already satisfied: beautifulsoup4 in /usr/local/lib/python3.10/dist-packages (4.11.2)\n",
            "Requirement already satisfied: soupsieve>1.2 in /usr/local/lib/python3.10/dist-packages (from beautifulsoup4) (2.5)\n"
          ]
        }
      ],
      "source": [
        "!pip install requests\n",
        "!pip install beautifulsoup4"
      ]
    },
    {
      "cell_type": "markdown",
      "source": [
        "### Mengambil berita dari Detik.com"
      ],
      "metadata": {
        "id": "g9e0vY6pkIH3"
      }
    },
    {
      "cell_type": "code",
      "source": [
        "import requests\n",
        "from bs4 import BeautifulSoup\n",
        "import csv\n",
        "import pandas as pd"
      ],
      "metadata": {
        "id": "MT5TI6FAkMeH"
      },
      "execution_count": 33,
      "outputs": []
    },
    {
      "cell_type": "code",
      "source": [
        "import requests\n",
        "from bs4 import BeautifulSoup\n",
        "\n",
        "pencarian = 'pilpres 2024'\n",
        "cari = pencarian.replace(' ','+')\n",
        "tglAwal = '11/11/2023'\n",
        "tglAkhir = '11/12/2023'\n",
        "header={\n",
        "    'user-agent':'Mozilla/5.0 (Windows NT 10.0; Win64; x64) AppleWebKit/537.36 (KHTML, like Gecko) Chrome/109.0.0.0 Safari/537.36'\n",
        "}\n",
        "berita_list = []\n",
        "\n",
        "for halaman in range(10):\n",
        "    url = f'https://www.detik.com/search/searchall?query={cari}&sortby=time&fromdatex={tglAwal}&todatex={tglAkhir}&page={halaman}'\n",
        "\n",
        "    # Mengambil data dari detik.com\n",
        "    req = requests.get(url,header)\n",
        "    soup = BeautifulSoup(req.text, 'lxml')\n",
        "    listberita = soup.find('div', class_='list media_rows list-berita')\n",
        "    artikel = listberita.find_all('article')\n",
        "\n",
        "    for x in artikel:\n",
        "        url2 = x.find('a')['href']\n",
        "        judul = x.find('a').find('h2').text\n",
        "\n",
        "        # Mengambil data dari setiap konten\n",
        "        urlkonten = requests.get(url2, header)\n",
        "        soupkonten = BeautifulSoup(urlkonten.text, 'lxml')\n",
        "\n",
        "        # Mencoba mengekstrak kategori dari struktur HTML\n",
        "        kategori_element = soupkonten.find('span', class_='detail__label')\n",
        "        kategori = kategori_element.text.strip() if kategori_element else 'Tidak Diketahui'\n",
        "\n",
        "        konten = soupkonten.find_all('div', class_='detail__body-text itp_bodycontent')\n",
        "\n",
        "        for x in konten:\n",
        "            isi = x.find_all('p')\n",
        "            y = [y.text for y in isi]\n",
        "            fixkonten = ''.join(y).replace('\\n','').replace('ADVERTISEMENT','').replace('SCROLL TO RESUME CONTENT','')\n",
        "\n",
        "            # Menambahkan berita ke dalam daftar dengan kategori\n",
        "            berita_list.append([judul, fixkonten,kategori])"
      ],
      "metadata": {
        "id": "dxkKSrwNkQLp"
      },
      "execution_count": 34,
      "outputs": []
    },
    {
      "cell_type": "markdown",
      "source": [
        "###Berita berupa list dibuat kedalam DataFrame Pandas"
      ],
      "metadata": {
        "id": "9U7RAAOKkXxX"
      }
    },
    {
      "cell_type": "markdown",
      "source": [
        "Filtering berita dari Kategori News"
      ],
      "metadata": {
        "id": "XRMCgs0iku_e"
      }
    },
    {
      "cell_type": "code",
      "source": [
        "def del_word(string_awal, kata_hapus):\n",
        "    string_hasil = string_awal.replace(kata_hapus, '')\n",
        "    return string_hasil"
      ],
      "metadata": {
        "id": "RYMnkLYEtR-t"
      },
      "execution_count": 35,
      "outputs": []
    },
    {
      "cell_type": "code",
      "source": [
        "filter_berita = []\n",
        "\n",
        "for i in range(len(berita_list)):\n",
        "    if berita_list[i][2] != 'detikNews':\n",
        "        berita_list[i][2] = del_word(berita_list[i][2],\"detik\")\n",
        "        filter_berita.append(berita_list[i])"
      ],
      "metadata": {
        "id": "5F8HiGXflug8"
      },
      "execution_count": 36,
      "outputs": []
    },
    {
      "cell_type": "markdown",
      "source": [
        "Berita yang didapat"
      ],
      "metadata": {
        "id": "GDLe6EwRkzoX"
      }
    },
    {
      "cell_type": "code",
      "source": [
        "frame_berita = pd.DataFrame(filter_berita, columns =['Judul','Isi','Kategori'])\n",
        "frame_berita"
      ],
      "metadata": {
        "colab": {
          "base_uri": "https://localhost:8080/",
          "height": 1000
        },
        "id": "Dbi4wOMMkYk5",
        "outputId": "4528169c-fcd9-44c2-c73d-41140c56a5ba"
      },
      "execution_count": 37,
      "outputs": [
        {
          "output_type": "execute_result",
          "data": {
            "text/plain": [
              "                                                Judul  \\\n",
              "0   Profil Rudi Rohi, Salah Satu Panelis Debat Cap...   \n",
              "1   Profil Rudi Rohi, Salah Satu Panelis Debat Cap...   \n",
              "2   PKB Yakin Pilpres 2024 Dua Putaran, Anies-Cak ...   \n",
              "3   FX Rudy Ungkap Ganjar Minta Doa Debat Perdana ...   \n",
              "4   TPD Ganjar-Mahfud Sulsel Andalkan Survei Inter...   \n",
              "5   Sudirman Said Sebut Timnas AMIN Akan Bikin Pos...   \n",
              "6     Alasan Bobby Datang ke Rapimda III Golkar Sumut   \n",
              "7   Dede Yusuf Bicara soal Kesiapan Prabowo-Gibran...   \n",
              "8   Kata Airlangga soal Pilih Ijeck atau Bobby di ...   \n",
              "9   Pakar Unpad Nilai Debat Capres Jadi Ajang Pemb...   \n",
              "10  NasDem Sulsel soal Survei Anies Rendah: Di War...   \n",
              "11  Tak Cuma Emil Dardak, Ini Sederet Nama yang Ra...   \n",
              "12  Capres-Cawapres Bakal Dicecar 18 Pertanyaan Sa...   \n",
              "13  Elektabilitas Naik di Survei Litbang Kompas, A...   \n",
              "14  BIN Ungkap Kerawanan Pemilu 2024 di DIY Katego...   \n",
              "15        Anies Janji Bebaskan Pajak Aktivitas Sosial   \n",
              "16  PAW Anggota DPRD Medan Dipecat Partai gegara D...   \n",
              "17  Ganjar-Mahfud Paling Buncit di Survei Litbang ...   \n",
              "18  Disalip AMIN di Survei Litbang Kompas, Ganjar ...   \n",
              "19  Hasil Survei Prabowo-Gibran Unggul di Bali, Pe...   \n",
              "\n",
              "                                                  Isi Kategori  \n",
              "0   Debat calon presiden dan calon wakil presiden ...     Bali  \n",
              "1   Debat calon presiden dan calon wakil presiden ...     Bali  \n",
              "2   Politikus senior Partai Kebangkitan Bangsa (PK...     Bali  \n",
              "3   Ketua DPC PDIP Solo FX Hadi Rudyatmo yakin Gan...   Jateng  \n",
              "4   Tim Pemenangan Daerah (TPD) Capres-Cawapres no...   Sulsel  \n",
              "5   Tim Nasional pasangan 01 Anies Baswedan-Muhaim...   Jateng  \n",
              "6   Wali Kota Medan Bobby Nasution menghadiri Rapi...    Sumut  \n",
              "7   Debat capres-cawapres akan digelar di Kantor K...    Jabar  \n",
              "8   Partai Golkar memberikan surat tugas ke Wali K...    Sumut  \n",
              "9   Debat perdana capres dan cawapres akan digelar...    Jabar  \n",
              "10  Dewan Pimpinan Wilayah (DPW) NasDem Sulawesi S...   Sulsel  \n",
              "11  Khofifah Indar Parawansa telah mengantongi duk...    Jatim  \n",
              "12  Debat perdana capres-cawapres 2024 akan berlan...   Jateng  \n",
              "13  Survei Anies Baswedan naik ke peringkat kedua ...    Sumut  \n",
              "14  Badan Intelijen Negara Daerah (BINDA) Daerah I...    Jogja  \n",
              "15  Calon presiden (capres) Anies Baswedan mengata...  Finance  \n",
              "16  DPRD Medan bakal melangsungkan pelantikan perg...    Sumut  \n",
              "17  Litbang Kompas merilis hasil survei terbarunya...     Bali  \n",
              "18  Capres nomor urut 3, Ganjar Pranowo angka bica...    Jogja  \n",
              "19  Pasangan capres-cawapres Prabowo Subianto-Gibr...     Bali  "
            ],
            "text/html": [
              "\n",
              "  <div id=\"df-7f8c941a-c150-443f-840f-d125e94ebc0d\" class=\"colab-df-container\">\n",
              "    <div>\n",
              "<style scoped>\n",
              "    .dataframe tbody tr th:only-of-type {\n",
              "        vertical-align: middle;\n",
              "    }\n",
              "\n",
              "    .dataframe tbody tr th {\n",
              "        vertical-align: top;\n",
              "    }\n",
              "\n",
              "    .dataframe thead th {\n",
              "        text-align: right;\n",
              "    }\n",
              "</style>\n",
              "<table border=\"1\" class=\"dataframe\">\n",
              "  <thead>\n",
              "    <tr style=\"text-align: right;\">\n",
              "      <th></th>\n",
              "      <th>Judul</th>\n",
              "      <th>Isi</th>\n",
              "      <th>Kategori</th>\n",
              "    </tr>\n",
              "  </thead>\n",
              "  <tbody>\n",
              "    <tr>\n",
              "      <th>0</th>\n",
              "      <td>Profil Rudi Rohi, Salah Satu Panelis Debat Cap...</td>\n",
              "      <td>Debat calon presiden dan calon wakil presiden ...</td>\n",
              "      <td>Bali</td>\n",
              "    </tr>\n",
              "    <tr>\n",
              "      <th>1</th>\n",
              "      <td>Profil Rudi Rohi, Salah Satu Panelis Debat Cap...</td>\n",
              "      <td>Debat calon presiden dan calon wakil presiden ...</td>\n",
              "      <td>Bali</td>\n",
              "    </tr>\n",
              "    <tr>\n",
              "      <th>2</th>\n",
              "      <td>PKB Yakin Pilpres 2024 Dua Putaran, Anies-Cak ...</td>\n",
              "      <td>Politikus senior Partai Kebangkitan Bangsa (PK...</td>\n",
              "      <td>Bali</td>\n",
              "    </tr>\n",
              "    <tr>\n",
              "      <th>3</th>\n",
              "      <td>FX Rudy Ungkap Ganjar Minta Doa Debat Perdana ...</td>\n",
              "      <td>Ketua DPC PDIP Solo FX Hadi Rudyatmo yakin Gan...</td>\n",
              "      <td>Jateng</td>\n",
              "    </tr>\n",
              "    <tr>\n",
              "      <th>4</th>\n",
              "      <td>TPD Ganjar-Mahfud Sulsel Andalkan Survei Inter...</td>\n",
              "      <td>Tim Pemenangan Daerah (TPD) Capres-Cawapres no...</td>\n",
              "      <td>Sulsel</td>\n",
              "    </tr>\n",
              "    <tr>\n",
              "      <th>5</th>\n",
              "      <td>Sudirman Said Sebut Timnas AMIN Akan Bikin Pos...</td>\n",
              "      <td>Tim Nasional pasangan 01 Anies Baswedan-Muhaim...</td>\n",
              "      <td>Jateng</td>\n",
              "    </tr>\n",
              "    <tr>\n",
              "      <th>6</th>\n",
              "      <td>Alasan Bobby Datang ke Rapimda III Golkar Sumut</td>\n",
              "      <td>Wali Kota Medan Bobby Nasution menghadiri Rapi...</td>\n",
              "      <td>Sumut</td>\n",
              "    </tr>\n",
              "    <tr>\n",
              "      <th>7</th>\n",
              "      <td>Dede Yusuf Bicara soal Kesiapan Prabowo-Gibran...</td>\n",
              "      <td>Debat capres-cawapres akan digelar di Kantor K...</td>\n",
              "      <td>Jabar</td>\n",
              "    </tr>\n",
              "    <tr>\n",
              "      <th>8</th>\n",
              "      <td>Kata Airlangga soal Pilih Ijeck atau Bobby di ...</td>\n",
              "      <td>Partai Golkar memberikan surat tugas ke Wali K...</td>\n",
              "      <td>Sumut</td>\n",
              "    </tr>\n",
              "    <tr>\n",
              "      <th>9</th>\n",
              "      <td>Pakar Unpad Nilai Debat Capres Jadi Ajang Pemb...</td>\n",
              "      <td>Debat perdana capres dan cawapres akan digelar...</td>\n",
              "      <td>Jabar</td>\n",
              "    </tr>\n",
              "    <tr>\n",
              "      <th>10</th>\n",
              "      <td>NasDem Sulsel soal Survei Anies Rendah: Di War...</td>\n",
              "      <td>Dewan Pimpinan Wilayah (DPW) NasDem Sulawesi S...</td>\n",
              "      <td>Sulsel</td>\n",
              "    </tr>\n",
              "    <tr>\n",
              "      <th>11</th>\n",
              "      <td>Tak Cuma Emil Dardak, Ini Sederet Nama yang Ra...</td>\n",
              "      <td>Khofifah Indar Parawansa telah mengantongi duk...</td>\n",
              "      <td>Jatim</td>\n",
              "    </tr>\n",
              "    <tr>\n",
              "      <th>12</th>\n",
              "      <td>Capres-Cawapres Bakal Dicecar 18 Pertanyaan Sa...</td>\n",
              "      <td>Debat perdana capres-cawapres 2024 akan berlan...</td>\n",
              "      <td>Jateng</td>\n",
              "    </tr>\n",
              "    <tr>\n",
              "      <th>13</th>\n",
              "      <td>Elektabilitas Naik di Survei Litbang Kompas, A...</td>\n",
              "      <td>Survei Anies Baswedan naik ke peringkat kedua ...</td>\n",
              "      <td>Sumut</td>\n",
              "    </tr>\n",
              "    <tr>\n",
              "      <th>14</th>\n",
              "      <td>BIN Ungkap Kerawanan Pemilu 2024 di DIY Katego...</td>\n",
              "      <td>Badan Intelijen Negara Daerah (BINDA) Daerah I...</td>\n",
              "      <td>Jogja</td>\n",
              "    </tr>\n",
              "    <tr>\n",
              "      <th>15</th>\n",
              "      <td>Anies Janji Bebaskan Pajak Aktivitas Sosial</td>\n",
              "      <td>Calon presiden (capres) Anies Baswedan mengata...</td>\n",
              "      <td>Finance</td>\n",
              "    </tr>\n",
              "    <tr>\n",
              "      <th>16</th>\n",
              "      <td>PAW Anggota DPRD Medan Dipecat Partai gegara D...</td>\n",
              "      <td>DPRD Medan bakal melangsungkan pelantikan perg...</td>\n",
              "      <td>Sumut</td>\n",
              "    </tr>\n",
              "    <tr>\n",
              "      <th>17</th>\n",
              "      <td>Ganjar-Mahfud Paling Buncit di Survei Litbang ...</td>\n",
              "      <td>Litbang Kompas merilis hasil survei terbarunya...</td>\n",
              "      <td>Bali</td>\n",
              "    </tr>\n",
              "    <tr>\n",
              "      <th>18</th>\n",
              "      <td>Disalip AMIN di Survei Litbang Kompas, Ganjar ...</td>\n",
              "      <td>Capres nomor urut 3, Ganjar Pranowo angka bica...</td>\n",
              "      <td>Jogja</td>\n",
              "    </tr>\n",
              "    <tr>\n",
              "      <th>19</th>\n",
              "      <td>Hasil Survei Prabowo-Gibran Unggul di Bali, Pe...</td>\n",
              "      <td>Pasangan capres-cawapres Prabowo Subianto-Gibr...</td>\n",
              "      <td>Bali</td>\n",
              "    </tr>\n",
              "  </tbody>\n",
              "</table>\n",
              "</div>\n",
              "    <div class=\"colab-df-buttons\">\n",
              "\n",
              "  <div class=\"colab-df-container\">\n",
              "    <button class=\"colab-df-convert\" onclick=\"convertToInteractive('df-7f8c941a-c150-443f-840f-d125e94ebc0d')\"\n",
              "            title=\"Convert this dataframe to an interactive table.\"\n",
              "            style=\"display:none;\">\n",
              "\n",
              "  <svg xmlns=\"http://www.w3.org/2000/svg\" height=\"24px\" viewBox=\"0 -960 960 960\">\n",
              "    <path d=\"M120-120v-720h720v720H120Zm60-500h600v-160H180v160Zm220 220h160v-160H400v160Zm0 220h160v-160H400v160ZM180-400h160v-160H180v160Zm440 0h160v-160H620v160ZM180-180h160v-160H180v160Zm440 0h160v-160H620v160Z\"/>\n",
              "  </svg>\n",
              "    </button>\n",
              "\n",
              "  <style>\n",
              "    .colab-df-container {\n",
              "      display:flex;\n",
              "      gap: 12px;\n",
              "    }\n",
              "\n",
              "    .colab-df-convert {\n",
              "      background-color: #E8F0FE;\n",
              "      border: none;\n",
              "      border-radius: 50%;\n",
              "      cursor: pointer;\n",
              "      display: none;\n",
              "      fill: #1967D2;\n",
              "      height: 32px;\n",
              "      padding: 0 0 0 0;\n",
              "      width: 32px;\n",
              "    }\n",
              "\n",
              "    .colab-df-convert:hover {\n",
              "      background-color: #E2EBFA;\n",
              "      box-shadow: 0px 1px 2px rgba(60, 64, 67, 0.3), 0px 1px 3px 1px rgba(60, 64, 67, 0.15);\n",
              "      fill: #174EA6;\n",
              "    }\n",
              "\n",
              "    .colab-df-buttons div {\n",
              "      margin-bottom: 4px;\n",
              "    }\n",
              "\n",
              "    [theme=dark] .colab-df-convert {\n",
              "      background-color: #3B4455;\n",
              "      fill: #D2E3FC;\n",
              "    }\n",
              "\n",
              "    [theme=dark] .colab-df-convert:hover {\n",
              "      background-color: #434B5C;\n",
              "      box-shadow: 0px 1px 3px 1px rgba(0, 0, 0, 0.15);\n",
              "      filter: drop-shadow(0px 1px 2px rgba(0, 0, 0, 0.3));\n",
              "      fill: #FFFFFF;\n",
              "    }\n",
              "  </style>\n",
              "\n",
              "    <script>\n",
              "      const buttonEl =\n",
              "        document.querySelector('#df-7f8c941a-c150-443f-840f-d125e94ebc0d button.colab-df-convert');\n",
              "      buttonEl.style.display =\n",
              "        google.colab.kernel.accessAllowed ? 'block' : 'none';\n",
              "\n",
              "      async function convertToInteractive(key) {\n",
              "        const element = document.querySelector('#df-7f8c941a-c150-443f-840f-d125e94ebc0d');\n",
              "        const dataTable =\n",
              "          await google.colab.kernel.invokeFunction('convertToInteractive',\n",
              "                                                    [key], {});\n",
              "        if (!dataTable) return;\n",
              "\n",
              "        const docLinkHtml = 'Like what you see? Visit the ' +\n",
              "          '<a target=\"_blank\" href=https://colab.research.google.com/notebooks/data_table.ipynb>data table notebook</a>'\n",
              "          + ' to learn more about interactive tables.';\n",
              "        element.innerHTML = '';\n",
              "        dataTable['output_type'] = 'display_data';\n",
              "        await google.colab.output.renderOutput(dataTable, element);\n",
              "        const docLink = document.createElement('div');\n",
              "        docLink.innerHTML = docLinkHtml;\n",
              "        element.appendChild(docLink);\n",
              "      }\n",
              "    </script>\n",
              "  </div>\n",
              "\n",
              "\n",
              "<div id=\"df-bd03bbf6-1a3f-41d9-b7a1-e88ed1580d86\">\n",
              "  <button class=\"colab-df-quickchart\" onclick=\"quickchart('df-bd03bbf6-1a3f-41d9-b7a1-e88ed1580d86')\"\n",
              "            title=\"Suggest charts\"\n",
              "            style=\"display:none;\">\n",
              "\n",
              "<svg xmlns=\"http://www.w3.org/2000/svg\" height=\"24px\"viewBox=\"0 0 24 24\"\n",
              "     width=\"24px\">\n",
              "    <g>\n",
              "        <path d=\"M19 3H5c-1.1 0-2 .9-2 2v14c0 1.1.9 2 2 2h14c1.1 0 2-.9 2-2V5c0-1.1-.9-2-2-2zM9 17H7v-7h2v7zm4 0h-2V7h2v10zm4 0h-2v-4h2v4z\"/>\n",
              "    </g>\n",
              "</svg>\n",
              "  </button>\n",
              "\n",
              "<style>\n",
              "  .colab-df-quickchart {\n",
              "      --bg-color: #E8F0FE;\n",
              "      --fill-color: #1967D2;\n",
              "      --hover-bg-color: #E2EBFA;\n",
              "      --hover-fill-color: #174EA6;\n",
              "      --disabled-fill-color: #AAA;\n",
              "      --disabled-bg-color: #DDD;\n",
              "  }\n",
              "\n",
              "  [theme=dark] .colab-df-quickchart {\n",
              "      --bg-color: #3B4455;\n",
              "      --fill-color: #D2E3FC;\n",
              "      --hover-bg-color: #434B5C;\n",
              "      --hover-fill-color: #FFFFFF;\n",
              "      --disabled-bg-color: #3B4455;\n",
              "      --disabled-fill-color: #666;\n",
              "  }\n",
              "\n",
              "  .colab-df-quickchart {\n",
              "    background-color: var(--bg-color);\n",
              "    border: none;\n",
              "    border-radius: 50%;\n",
              "    cursor: pointer;\n",
              "    display: none;\n",
              "    fill: var(--fill-color);\n",
              "    height: 32px;\n",
              "    padding: 0;\n",
              "    width: 32px;\n",
              "  }\n",
              "\n",
              "  .colab-df-quickchart:hover {\n",
              "    background-color: var(--hover-bg-color);\n",
              "    box-shadow: 0 1px 2px rgba(60, 64, 67, 0.3), 0 1px 3px 1px rgba(60, 64, 67, 0.15);\n",
              "    fill: var(--button-hover-fill-color);\n",
              "  }\n",
              "\n",
              "  .colab-df-quickchart-complete:disabled,\n",
              "  .colab-df-quickchart-complete:disabled:hover {\n",
              "    background-color: var(--disabled-bg-color);\n",
              "    fill: var(--disabled-fill-color);\n",
              "    box-shadow: none;\n",
              "  }\n",
              "\n",
              "  .colab-df-spinner {\n",
              "    border: 2px solid var(--fill-color);\n",
              "    border-color: transparent;\n",
              "    border-bottom-color: var(--fill-color);\n",
              "    animation:\n",
              "      spin 1s steps(1) infinite;\n",
              "  }\n",
              "\n",
              "  @keyframes spin {\n",
              "    0% {\n",
              "      border-color: transparent;\n",
              "      border-bottom-color: var(--fill-color);\n",
              "      border-left-color: var(--fill-color);\n",
              "    }\n",
              "    20% {\n",
              "      border-color: transparent;\n",
              "      border-left-color: var(--fill-color);\n",
              "      border-top-color: var(--fill-color);\n",
              "    }\n",
              "    30% {\n",
              "      border-color: transparent;\n",
              "      border-left-color: var(--fill-color);\n",
              "      border-top-color: var(--fill-color);\n",
              "      border-right-color: var(--fill-color);\n",
              "    }\n",
              "    40% {\n",
              "      border-color: transparent;\n",
              "      border-right-color: var(--fill-color);\n",
              "      border-top-color: var(--fill-color);\n",
              "    }\n",
              "    60% {\n",
              "      border-color: transparent;\n",
              "      border-right-color: var(--fill-color);\n",
              "    }\n",
              "    80% {\n",
              "      border-color: transparent;\n",
              "      border-right-color: var(--fill-color);\n",
              "      border-bottom-color: var(--fill-color);\n",
              "    }\n",
              "    90% {\n",
              "      border-color: transparent;\n",
              "      border-bottom-color: var(--fill-color);\n",
              "    }\n",
              "  }\n",
              "</style>\n",
              "\n",
              "  <script>\n",
              "    async function quickchart(key) {\n",
              "      const quickchartButtonEl =\n",
              "        document.querySelector('#' + key + ' button');\n",
              "      quickchartButtonEl.disabled = true;  // To prevent multiple clicks.\n",
              "      quickchartButtonEl.classList.add('colab-df-spinner');\n",
              "      try {\n",
              "        const charts = await google.colab.kernel.invokeFunction(\n",
              "            'suggestCharts', [key], {});\n",
              "      } catch (error) {\n",
              "        console.error('Error during call to suggestCharts:', error);\n",
              "      }\n",
              "      quickchartButtonEl.classList.remove('colab-df-spinner');\n",
              "      quickchartButtonEl.classList.add('colab-df-quickchart-complete');\n",
              "    }\n",
              "    (() => {\n",
              "      let quickchartButtonEl =\n",
              "        document.querySelector('#df-bd03bbf6-1a3f-41d9-b7a1-e88ed1580d86 button');\n",
              "      quickchartButtonEl.style.display =\n",
              "        google.colab.kernel.accessAllowed ? 'block' : 'none';\n",
              "    })();\n",
              "  </script>\n",
              "</div>\n",
              "    </div>\n",
              "  </div>\n"
            ]
          },
          "metadata": {},
          "execution_count": 37
        }
      ]
    },
    {
      "cell_type": "markdown",
      "source": [
        "##Prepocessing"
      ],
      "metadata": {
        "id": "zyUmjfq6ogsR"
      }
    },
    {
      "cell_type": "markdown",
      "source": [
        "###Memuat library nltk dan sastrawi"
      ],
      "metadata": {
        "id": "7vS0nH0aop1g"
      }
    },
    {
      "cell_type": "code",
      "source": [
        "!pip install sastrawi\n",
        "\n",
        "import numpy as np\n",
        "import re, string\n",
        "import nltk\n",
        "from tqdm.auto import tqdm\n",
        "\n",
        "nltk.download('popular')\n",
        "nltk.download('stopwords')\n",
        "tqdm.pandas()\n",
        "\n",
        "from nltk.tokenize import word_tokenize\n",
        "from nltk.corpus import stopwords\n",
        "from itertools import chain"
      ],
      "metadata": {
        "colab": {
          "base_uri": "https://localhost:8080/"
        },
        "id": "VBOVy8G9ojra",
        "outputId": "6a08c427-12c2-4234-e1b8-c8c925659cbf"
      },
      "execution_count": 38,
      "outputs": [
        {
          "output_type": "stream",
          "name": "stdout",
          "text": [
            "Requirement already satisfied: sastrawi in /usr/local/lib/python3.10/dist-packages (1.0.1)\n"
          ]
        },
        {
          "output_type": "stream",
          "name": "stderr",
          "text": [
            "[nltk_data] Downloading collection 'popular'\n",
            "[nltk_data]    | \n",
            "[nltk_data]    | Downloading package cmudict to /root/nltk_data...\n",
            "[nltk_data]    |   Package cmudict is already up-to-date!\n",
            "[nltk_data]    | Downloading package gazetteers to /root/nltk_data...\n",
            "[nltk_data]    |   Package gazetteers is already up-to-date!\n",
            "[nltk_data]    | Downloading package genesis to /root/nltk_data...\n",
            "[nltk_data]    |   Package genesis is already up-to-date!\n",
            "[nltk_data]    | Downloading package gutenberg to /root/nltk_data...\n",
            "[nltk_data]    |   Package gutenberg is already up-to-date!\n",
            "[nltk_data]    | Downloading package inaugural to /root/nltk_data...\n",
            "[nltk_data]    |   Package inaugural is already up-to-date!\n",
            "[nltk_data]    | Downloading package movie_reviews to\n",
            "[nltk_data]    |     /root/nltk_data...\n",
            "[nltk_data]    |   Package movie_reviews is already up-to-date!\n",
            "[nltk_data]    | Downloading package names to /root/nltk_data...\n",
            "[nltk_data]    |   Package names is already up-to-date!\n",
            "[nltk_data]    | Downloading package shakespeare to /root/nltk_data...\n",
            "[nltk_data]    |   Package shakespeare is already up-to-date!\n",
            "[nltk_data]    | Downloading package stopwords to /root/nltk_data...\n",
            "[nltk_data]    |   Package stopwords is already up-to-date!\n",
            "[nltk_data]    | Downloading package treebank to /root/nltk_data...\n",
            "[nltk_data]    |   Package treebank is already up-to-date!\n",
            "[nltk_data]    | Downloading package twitter_samples to\n",
            "[nltk_data]    |     /root/nltk_data...\n",
            "[nltk_data]    |   Package twitter_samples is already up-to-date!\n",
            "[nltk_data]    | Downloading package omw to /root/nltk_data...\n",
            "[nltk_data]    |   Package omw is already up-to-date!\n",
            "[nltk_data]    | Downloading package omw-1.4 to /root/nltk_data...\n",
            "[nltk_data]    |   Package omw-1.4 is already up-to-date!\n",
            "[nltk_data]    | Downloading package wordnet to /root/nltk_data...\n",
            "[nltk_data]    |   Package wordnet is already up-to-date!\n",
            "[nltk_data]    | Downloading package wordnet2021 to /root/nltk_data...\n",
            "[nltk_data]    |   Package wordnet2021 is already up-to-date!\n",
            "[nltk_data]    | Downloading package wordnet31 to /root/nltk_data...\n",
            "[nltk_data]    |   Package wordnet31 is already up-to-date!\n",
            "[nltk_data]    | Downloading package wordnet_ic to /root/nltk_data...\n",
            "[nltk_data]    |   Package wordnet_ic is already up-to-date!\n",
            "[nltk_data]    | Downloading package words to /root/nltk_data...\n",
            "[nltk_data]    |   Package words is already up-to-date!\n",
            "[nltk_data]    | Downloading package maxent_ne_chunker to\n",
            "[nltk_data]    |     /root/nltk_data...\n",
            "[nltk_data]    |   Package maxent_ne_chunker is already up-to-date!\n",
            "[nltk_data]    | Downloading package punkt to /root/nltk_data...\n",
            "[nltk_data]    |   Package punkt is already up-to-date!\n",
            "[nltk_data]    | Downloading package snowball_data to\n",
            "[nltk_data]    |     /root/nltk_data...\n",
            "[nltk_data]    |   Package snowball_data is already up-to-date!\n",
            "[nltk_data]    | Downloading package averaged_perceptron_tagger to\n",
            "[nltk_data]    |     /root/nltk_data...\n",
            "[nltk_data]    |   Package averaged_perceptron_tagger is already up-\n",
            "[nltk_data]    |       to-date!\n",
            "[nltk_data]    | \n",
            "[nltk_data]  Done downloading collection popular\n",
            "[nltk_data] Downloading package stopwords to /root/nltk_data...\n",
            "[nltk_data]   Package stopwords is already up-to-date!\n"
          ]
        }
      ]
    },
    {
      "cell_type": "markdown",
      "source": [
        "###Cleaning_text"
      ],
      "metadata": {
        "id": "MgvWPwS4o3yP"
      }
    },
    {
      "cell_type": "code",
      "source": [
        "# Text Cleaning\n",
        "def cleaning(text):\n",
        "    # Menghapus tag HTML\n",
        "    text = re.compile('<.*?>|&([a-z0-9]+|#[0-9]{1,6}|#x[0-9a-f]{1,6});').sub('', str(text))\n",
        "\n",
        "    # Mengubah seluruh teks menjadi huruf kecil\n",
        "    text = text.lower()\n",
        "\n",
        "    # Menghapus spasi pada teks\n",
        "    text = text.strip()\n",
        "\n",
        "    # Menghapus Tanda Baca, karakter spesial, and spasi ganda\n",
        "    text = re.compile('<.*?>').sub('', text)\n",
        "    text = re.compile('[%s]' % re.escape(string.punctuation)).sub(' ', text)\n",
        "    text = re.sub('\\s+', ' ', text)\n",
        "    text = re.sub(r'\\n', ' ', text)\n",
        "    text = re.sub(\"â\", \"\", text)\n",
        "\n",
        "    # Menghapus Nomor\n",
        "    text = re.sub(r'\\[[0-9]*\\]', ' ', text)\n",
        "    text = re.sub(r'[^\\w\\s]', '', str(text).lower().strip())\n",
        "    text = re.sub(r'\\d', ' ', text)\n",
        "    text = re.sub(r'\\s+', ' ', text)\n",
        "\n",
        "    # Mengubah text yang berisi 'nan' dengan whitespace agar nantinya dapat dihapus\n",
        "    text = re.sub('nan', '', text)\n",
        "\n",
        "    return text"
      ],
      "metadata": {
        "id": "YysYnKulo2ks"
      },
      "execution_count": 39,
      "outputs": []
    },
    {
      "cell_type": "code",
      "source": [
        "df = frame_berita"
      ],
      "metadata": {
        "id": "_I0VldPipVE6"
      },
      "execution_count": 40,
      "outputs": []
    },
    {
      "cell_type": "markdown",
      "source": [
        "Cleaning text"
      ],
      "metadata": {
        "id": "_hMvUse0p0mV"
      }
    },
    {
      "cell_type": "code",
      "source": [
        "df['clean'] = df['Isi'].apply(lambda x: cleaning(x))"
      ],
      "metadata": {
        "id": "k6d6EFTlpKpK"
      },
      "execution_count": 41,
      "outputs": []
    },
    {
      "cell_type": "code",
      "source": [
        "df['clean']"
      ],
      "metadata": {
        "colab": {
          "base_uri": "https://localhost:8080/"
        },
        "id": "uH_FVmGMpYeE",
        "outputId": "fa6a8a5e-c463-476f-b09f-0a4db1c83328"
      },
      "execution_count": 42,
      "outputs": [
        {
          "output_type": "execute_result",
          "data": {
            "text/plain": [
              "0     debat calon presiden dan calon wakil presiden ...\n",
              "1     debat calon presiden dan calon wakil presiden ...\n",
              "2     politikus senior partai kebangkitan bangsa pkb...\n",
              "3     ketua dpc pdip solo fx hadi rudyatmo yakin gan...\n",
              "4     tim pemegan daerah tpd capres cawapres nomor u...\n",
              "5     tim nasional pasangan anies baswedan muhaimin ...\n",
              "6     wali kota medan bobby nasution menghadiri rapi...\n",
              "7     debat capres cawapres akan digelar di kantor k...\n",
              "8     partai golkar memberikan surat tugas ke wali k...\n",
              "9     debat perdana capres dan cawapres akan digelar...\n",
              "10    dewan pimpi wilayah dpw nasdem sulawesi selata...\n",
              "11    khofifah indar parawansa telah mengantongi duk...\n",
              "12    debat perdana capres cawapres akan berlangsung...\n",
              "13    survei anies baswedan naik ke peringkat kedua ...\n",
              "14    badan intelijen negara daerah binda daerah ist...\n",
              "15    calon presiden capres anies baswedan mengataka...\n",
              "16    dprd medan bakal melangsungkan pelantikan perg...\n",
              "17    litbang kompas merilis hasil survei terbarunya...\n",
              "18    capres nomor urut ganjar pranowo angka bicara ...\n",
              "19    pasangan capres cawapres prabowo subianto gibr...\n",
              "Name: clean, dtype: object"
            ]
          },
          "metadata": {},
          "execution_count": 42
        }
      ]
    },
    {
      "cell_type": "markdown",
      "source": [
        "Tokenize"
      ],
      "metadata": {
        "id": "kR0ZF3Yxp3p8"
      }
    },
    {
      "cell_type": "code",
      "source": [
        "df['tokenize'] = df['clean'].apply(lambda x: word_tokenize(x))"
      ],
      "metadata": {
        "id": "NU9pQ5JHplPZ"
      },
      "execution_count": 43,
      "outputs": []
    },
    {
      "cell_type": "code",
      "source": [
        "df['tokenize']"
      ],
      "metadata": {
        "colab": {
          "base_uri": "https://localhost:8080/"
        },
        "id": "v4SmVMoypqYK",
        "outputId": "cdc44ca3-28aa-419e-faaa-455b4ebc6837"
      },
      "execution_count": 44,
      "outputs": [
        {
          "output_type": "execute_result",
          "data": {
            "text/plain": [
              "0     [debat, calon, presiden, dan, calon, wakil, pr...\n",
              "1     [debat, calon, presiden, dan, calon, wakil, pr...\n",
              "2     [politikus, senior, partai, kebangkitan, bangs...\n",
              "3     [ketua, dpc, pdip, solo, fx, hadi, rudyatmo, y...\n",
              "4     [tim, pemegan, daerah, tpd, capres, cawapres, ...\n",
              "5     [tim, nasional, pasangan, anies, baswedan, muh...\n",
              "6     [wali, kota, medan, bobby, nasution, menghadir...\n",
              "7     [debat, capres, cawapres, akan, digelar, di, k...\n",
              "8     [partai, golkar, memberikan, surat, tugas, ke,...\n",
              "9     [debat, perdana, capres, dan, cawapres, akan, ...\n",
              "10    [dewan, pimpi, wilayah, dpw, nasdem, sulawesi,...\n",
              "11    [khofifah, indar, parawansa, telah, mengantong...\n",
              "12    [debat, perdana, capres, cawapres, akan, berla...\n",
              "13    [survei, anies, baswedan, naik, ke, peringkat,...\n",
              "14    [badan, intelijen, negara, daerah, binda, daer...\n",
              "15    [calon, presiden, capres, anies, baswedan, men...\n",
              "16    [dprd, medan, bakal, melangsungkan, pelantikan...\n",
              "17    [litbang, kompas, merilis, hasil, survei, terb...\n",
              "18    [capres, nomor, urut, ganjar, pranowo, angka, ...\n",
              "19    [pasangan, capres, cawapres, prabowo, subianto...\n",
              "Name: tokenize, dtype: object"
            ]
          },
          "metadata": {},
          "execution_count": 44
        }
      ]
    },
    {
      "cell_type": "markdown",
      "source": [
        "Remove Stopword"
      ],
      "metadata": {
        "id": "hSmxY8xvp6JQ"
      }
    },
    {
      "cell_type": "code",
      "source": [
        "stop_words = set(chain(stopwords.words('indonesian')))\n",
        "df['remove_stopword'] = df['tokenize'].apply(lambda x: [w for w in x if not w in stop_words])"
      ],
      "metadata": {
        "id": "0BBP_bnVp9NP"
      },
      "execution_count": 45,
      "outputs": []
    },
    {
      "cell_type": "code",
      "source": [
        "df['remove_stopword']"
      ],
      "metadata": {
        "colab": {
          "base_uri": "https://localhost:8080/"
        },
        "id": "_58ndxrjqDU1",
        "outputId": "7b7257f4-8534-4477-91fb-a48682226c1a"
      },
      "execution_count": 46,
      "outputs": [
        {
          "output_type": "execute_result",
          "data": {
            "text/plain": [
              "0     [debat, calon, presiden, calon, wakil, preside...\n",
              "1     [debat, calon, presiden, calon, wakil, preside...\n",
              "2     [politikus, senior, partai, kebangkitan, bangs...\n",
              "3     [ketua, dpc, pdip, solo, fx, hadi, rudyatmo, g...\n",
              "4     [tim, pemegan, daerah, tpd, capres, cawapres, ...\n",
              "5     [tim, nasional, pasangan, anies, baswedan, muh...\n",
              "6     [wali, kota, medan, bobby, nasution, menghadir...\n",
              "7     [debat, capres, cawapres, digelar, kantor, kpu...\n",
              "8     [partai, golkar, surat, tugas, wali, kota, med...\n",
              "9     [debat, perdana, capres, cawapres, digelar, ko...\n",
              "10    [dewan, pimpi, wilayah, dpw, nasdem, sulawesi,...\n",
              "11    [khofifah, indar, parawansa, mengantongi, duku...\n",
              "12    [debat, perdana, capres, cawapres, menit, diba...\n",
              "13    [survei, anies, baswedan, peringkat, litbang, ...\n",
              "14    [badan, intelijen, negara, daerah, binda, daer...\n",
              "15    [calon, presiden, capres, anies, baswedan, mem...\n",
              "16    [dprd, medan, melangsungkan, pelantikan, perga...\n",
              "17    [litbang, kompas, merilis, hasil, survei, terb...\n",
              "18    [capres, nomor, urut, ganjar, pranowo, angka, ...\n",
              "19    [pasangan, capres, cawapres, prabowo, subianto...\n",
              "Name: remove_stopword, dtype: object"
            ]
          },
          "metadata": {},
          "execution_count": 46
        }
      ]
    },
    {
      "cell_type": "markdown",
      "source": [
        "Stemming"
      ],
      "metadata": {
        "id": "9H7w0nETqQ8h"
      }
    },
    {
      "cell_type": "code",
      "source": [
        "from Sastrawi.Stemmer.StemmerFactory import StemmerFactory\n",
        "from tqdm.auto import tqdm\n",
        "\n",
        "factory = StemmerFactory()\n",
        "stemmer = factory.create_stemmer()"
      ],
      "metadata": {
        "id": "brKktIy2qMSn"
      },
      "execution_count": 47,
      "outputs": []
    },
    {
      "cell_type": "code",
      "source": [
        "df['steming'] = df['remove_stopword'].progress_apply(lambda x: stemmer.stem(' '.join(x)).split(' '))"
      ],
      "metadata": {
        "colab": {
          "base_uri": "https://localhost:8080/",
          "height": 49,
          "referenced_widgets": [
            "ecd555461e8c4d4f85e124b00f6149c5",
            "040be91992084779b39414c6f4c61e4b",
            "5664fbb4f7964e609a4d1e8f6d3f030f",
            "94badfb75df84b84bf3f2c5b4e973b9b",
            "5dda1f5bc7b5430ca6b88b7c40ed61b2",
            "735fa456cc824b13b8d8319c5e2118e3",
            "bfdb5095f672427b9bf0fad3a4fdd1e2",
            "1ea1944fb72445bcad6ffaebe007dff0",
            "c6a27fb418e64ae8a4030cc1f0b49961",
            "e9310b1b8f4547ce9e714c3e6eebd178",
            "338f380c0b7b49a8a7bd45e662b58ee4"
          ]
        },
        "id": "an0pNxC-qPs_",
        "outputId": "b34efa13-f9db-4fff-a7f0-37c20d7167b2"
      },
      "execution_count": 48,
      "outputs": [
        {
          "output_type": "display_data",
          "data": {
            "text/plain": [
              "  0%|          | 0/20 [00:00<?, ?it/s]"
            ],
            "application/vnd.jupyter.widget-view+json": {
              "version_major": 2,
              "version_minor": 0,
              "model_id": "ecd555461e8c4d4f85e124b00f6149c5"
            }
          },
          "metadata": {}
        }
      ]
    },
    {
      "cell_type": "markdown",
      "source": [
        "Hasil"
      ],
      "metadata": {
        "id": "0AvP98s1qbIq"
      }
    },
    {
      "cell_type": "code",
      "source": [
        "df['Isi_terbaru'] = df['steming'].apply(lambda tokens: ' '.join(tokens))"
      ],
      "metadata": {
        "id": "ytmqi01bqdsX"
      },
      "execution_count": 49,
      "outputs": []
    },
    {
      "cell_type": "code",
      "source": [
        "df['Isi_terbaru']"
      ],
      "metadata": {
        "colab": {
          "base_uri": "https://localhost:8080/"
        },
        "id": "-F4KD8UFqgsh",
        "outputId": "57f8560b-b695-43d3-a8c2-513d02d93858"
      },
      "execution_count": 50,
      "outputs": [
        {
          "output_type": "execute_result",
          "data": {
            "text/plain": [
              "0     debat calon presiden calon wakil presiden capr...\n",
              "1     debat calon presiden calon wakil presiden capr...\n",
              "2     politikus senior partai bangkit bangsa pkb hel...\n",
              "3     ketua dpc pdip solo fx had rudyatmo ganjar pra...\n",
              "4     tim megan daerah tpd capres cawapres nomor uru...\n",
              "5     tim nasional pasang anies baswedan muhaimin is...\n",
              "6     wali kota medan bobby nasution hadir rapimda i...\n",
              "7     debat capres cawapres gelar kantor kpu ri jaka...\n",
              "8     partai golkar surat tugas wali kota medan bobb...\n",
              "9     debat perdana capres cawapres gelar komisi pil...\n",
              "10    dewan pimpi wilayah dpw nasdem sulawesi selata...\n",
              "11    khofifah indar parawansa kantong dukung parpol...\n",
              "12    debat perdana capres cawapres menit bagi segme...\n",
              "13    survei anies baswedan peringkat litbang kompas...\n",
              "14    badan intelijen negara daerah binda daerah ist...\n",
              "15    calon presiden capres anies baswedan bebas paj...\n",
              "16    dprd medan langsung lantik ganti paw anggota f...\n",
              "17    litbang kompas rilis hasil survei baru pilih p...\n",
              "18    capres nomor urut ganjar pranowo angka bicara ...\n",
              "19    pasang capres cawapres prabowo subianto gibran...\n",
              "Name: Isi_terbaru, dtype: object"
            ]
          },
          "metadata": {},
          "execution_count": 50
        }
      ]
    },
    {
      "cell_type": "markdown",
      "source": [
        "##SVM"
      ],
      "metadata": {
        "id": "AhwtaSDftTsH"
      }
    },
    {
      "cell_type": "markdown",
      "source": [
        "Installing library"
      ],
      "metadata": {
        "id": "I1w-YTFQtWtq"
      }
    },
    {
      "cell_type": "code",
      "source": [
        "!pip install scikit-learn\n",
        "!pip install numpy\n",
        "!pip install matplotlib"
      ],
      "metadata": {
        "colab": {
          "base_uri": "https://localhost:8080/"
        },
        "id": "MCSIZS0ttVmD",
        "outputId": "92a00296-a728-4d90-c370-83121be28441"
      },
      "execution_count": 51,
      "outputs": [
        {
          "output_type": "stream",
          "name": "stdout",
          "text": [
            "Requirement already satisfied: scikit-learn in /usr/local/lib/python3.10/dist-packages (1.2.2)\n",
            "Requirement already satisfied: numpy>=1.17.3 in /usr/local/lib/python3.10/dist-packages (from scikit-learn) (1.23.5)\n",
            "Requirement already satisfied: scipy>=1.3.2 in /usr/local/lib/python3.10/dist-packages (from scikit-learn) (1.11.4)\n",
            "Requirement already satisfied: joblib>=1.1.1 in /usr/local/lib/python3.10/dist-packages (from scikit-learn) (1.3.2)\n",
            "Requirement already satisfied: threadpoolctl>=2.0.0 in /usr/local/lib/python3.10/dist-packages (from scikit-learn) (3.2.0)\n",
            "Requirement already satisfied: numpy in /usr/local/lib/python3.10/dist-packages (1.23.5)\n",
            "Requirement already satisfied: matplotlib in /usr/local/lib/python3.10/dist-packages (3.7.1)\n",
            "Requirement already satisfied: contourpy>=1.0.1 in /usr/local/lib/python3.10/dist-packages (from matplotlib) (1.2.0)\n",
            "Requirement already satisfied: cycler>=0.10 in /usr/local/lib/python3.10/dist-packages (from matplotlib) (0.12.1)\n",
            "Requirement already satisfied: fonttools>=4.22.0 in /usr/local/lib/python3.10/dist-packages (from matplotlib) (4.46.0)\n",
            "Requirement already satisfied: kiwisolver>=1.0.1 in /usr/local/lib/python3.10/dist-packages (from matplotlib) (1.4.5)\n",
            "Requirement already satisfied: numpy>=1.20 in /usr/local/lib/python3.10/dist-packages (from matplotlib) (1.23.5)\n",
            "Requirement already satisfied: packaging>=20.0 in /usr/local/lib/python3.10/dist-packages (from matplotlib) (23.2)\n",
            "Requirement already satisfied: pillow>=6.2.0 in /usr/local/lib/python3.10/dist-packages (from matplotlib) (9.4.0)\n",
            "Requirement already satisfied: pyparsing>=2.3.1 in /usr/local/lib/python3.10/dist-packages (from matplotlib) (3.1.1)\n",
            "Requirement already satisfied: python-dateutil>=2.7 in /usr/local/lib/python3.10/dist-packages (from matplotlib) (2.8.2)\n",
            "Requirement already satisfied: six>=1.5 in /usr/local/lib/python3.10/dist-packages (from python-dateutil>=2.7->matplotlib) (1.16.0)\n"
          ]
        }
      ]
    },
    {
      "cell_type": "markdown",
      "source": [
        "Import library"
      ],
      "metadata": {
        "id": "gAxHhfxxtdIN"
      }
    },
    {
      "cell_type": "code",
      "source": [
        "!pip install googletrans==4.0.0-rc1"
      ],
      "metadata": {
        "colab": {
          "base_uri": "https://localhost:8080/"
        },
        "id": "nvpIqGrr0la8",
        "outputId": "28495ee6-d5b1-4f32-8e7b-1f2f1dc6aeb2"
      },
      "execution_count": 52,
      "outputs": [
        {
          "output_type": "stream",
          "name": "stdout",
          "text": [
            "Requirement already satisfied: googletrans==4.0.0-rc1 in /usr/local/lib/python3.10/dist-packages (4.0.0rc1)\n",
            "Requirement already satisfied: httpx==0.13.3 in /usr/local/lib/python3.10/dist-packages (from googletrans==4.0.0-rc1) (0.13.3)\n",
            "Requirement already satisfied: certifi in /usr/local/lib/python3.10/dist-packages (from httpx==0.13.3->googletrans==4.0.0-rc1) (2023.11.17)\n",
            "Requirement already satisfied: hstspreload in /usr/local/lib/python3.10/dist-packages (from httpx==0.13.3->googletrans==4.0.0-rc1) (2023.1.1)\n",
            "Requirement already satisfied: sniffio in /usr/local/lib/python3.10/dist-packages (from httpx==0.13.3->googletrans==4.0.0-rc1) (1.3.0)\n",
            "Requirement already satisfied: chardet==3.* in /usr/local/lib/python3.10/dist-packages (from httpx==0.13.3->googletrans==4.0.0-rc1) (3.0.4)\n",
            "Requirement already satisfied: idna==2.* in /usr/local/lib/python3.10/dist-packages (from httpx==0.13.3->googletrans==4.0.0-rc1) (2.10)\n",
            "Requirement already satisfied: rfc3986<2,>=1.3 in /usr/local/lib/python3.10/dist-packages (from httpx==0.13.3->googletrans==4.0.0-rc1) (1.5.0)\n",
            "Requirement already satisfied: httpcore==0.9.* in /usr/local/lib/python3.10/dist-packages (from httpx==0.13.3->googletrans==4.0.0-rc1) (0.9.1)\n",
            "Requirement already satisfied: h11<0.10,>=0.8 in /usr/local/lib/python3.10/dist-packages (from httpcore==0.9.*->httpx==0.13.3->googletrans==4.0.0-rc1) (0.9.0)\n",
            "Requirement already satisfied: h2==3.* in /usr/local/lib/python3.10/dist-packages (from httpcore==0.9.*->httpx==0.13.3->googletrans==4.0.0-rc1) (3.2.0)\n",
            "Requirement already satisfied: hyperframe<6,>=5.2.0 in /usr/local/lib/python3.10/dist-packages (from h2==3.*->httpcore==0.9.*->httpx==0.13.3->googletrans==4.0.0-rc1) (5.2.0)\n",
            "Requirement already satisfied: hpack<4,>=3.0 in /usr/local/lib/python3.10/dist-packages (from h2==3.*->httpcore==0.9.*->httpx==0.13.3->googletrans==4.0.0-rc1) (3.0.0)\n"
          ]
        }
      ]
    },
    {
      "cell_type": "code",
      "source": [
        "import numpy as np\n",
        "import pandas as pd\n",
        "import matplotlib.pyplot as plt\n",
        "from sklearn.feature_extraction.text import TfidfVectorizer\n",
        "from sklearn.model_selection import train_test_split\n",
        "from sklearn.svm import SVC\n",
        "from sklearn.metrics import accuracy_score, classification_report\n",
        "from textblob import TextBlob\n",
        "from googletrans import Translator\n",
        "import matplotlib.pyplot as plt"
      ],
      "metadata": {
        "id": "HbNDeXZathaR"
      },
      "execution_count": 53,
      "outputs": []
    },
    {
      "cell_type": "markdown",
      "source": [
        "Load data"
      ],
      "metadata": {
        "id": "R2WkDRLytv2q"
      }
    },
    {
      "cell_type": "code",
      "source": [
        "# Misal dataframe Anda bernama df\n",
        "X = df['Isi_terbaru'].values\n",
        "y = df['Kategori'].values\n",
        "\n",
        "# Bagi data menjadi set pelatihan dan pengujian\n",
        "X_train, X_test, y_train, y_test = train_test_split(X, y, test_size=0.1, random_state=42)\n"
      ],
      "metadata": {
        "id": "jBkqNeWftryH"
      },
      "execution_count": 54,
      "outputs": []
    },
    {
      "cell_type": "markdown",
      "source": [
        "TF-IDF"
      ],
      "metadata": {
        "id": "fNO_G_7TuATW"
      }
    },
    {
      "cell_type": "code",
      "source": [
        "vectorizer = TfidfVectorizer(max_features=5000, stop_words='english')\n",
        "X_train_tfidf = vectorizer.fit_transform(X)\n",
        "X_test_tfidf = vectorizer.transform(X)"
      ],
      "metadata": {
        "id": "Z_iiv82bt_ok"
      },
      "execution_count": 55,
      "outputs": []
    },
    {
      "cell_type": "markdown",
      "source": [
        "Training model SVM"
      ],
      "metadata": {
        "id": "uRpWdoDEuGoe"
      }
    },
    {
      "cell_type": "code",
      "source": [
        "svm_model = SVC(kernel='linear')\n",
        "svm_model.fit(X_train_tfidf, y)"
      ],
      "metadata": {
        "colab": {
          "base_uri": "https://localhost:8080/",
          "height": 74
        },
        "id": "lFNN7gmRuGR9",
        "outputId": "5d19fff0-b708-4653-c401-fb9eddaa3499"
      },
      "execution_count": 56,
      "outputs": [
        {
          "output_type": "execute_result",
          "data": {
            "text/plain": [
              "SVC(kernel='linear')"
            ],
            "text/html": [
              "<style>#sk-container-id-2 {color: black;background-color: white;}#sk-container-id-2 pre{padding: 0;}#sk-container-id-2 div.sk-toggleable {background-color: white;}#sk-container-id-2 label.sk-toggleable__label {cursor: pointer;display: block;width: 100%;margin-bottom: 0;padding: 0.3em;box-sizing: border-box;text-align: center;}#sk-container-id-2 label.sk-toggleable__label-arrow:before {content: \"▸\";float: left;margin-right: 0.25em;color: #696969;}#sk-container-id-2 label.sk-toggleable__label-arrow:hover:before {color: black;}#sk-container-id-2 div.sk-estimator:hover label.sk-toggleable__label-arrow:before {color: black;}#sk-container-id-2 div.sk-toggleable__content {max-height: 0;max-width: 0;overflow: hidden;text-align: left;background-color: #f0f8ff;}#sk-container-id-2 div.sk-toggleable__content pre {margin: 0.2em;color: black;border-radius: 0.25em;background-color: #f0f8ff;}#sk-container-id-2 input.sk-toggleable__control:checked~div.sk-toggleable__content {max-height: 200px;max-width: 100%;overflow: auto;}#sk-container-id-2 input.sk-toggleable__control:checked~label.sk-toggleable__label-arrow:before {content: \"▾\";}#sk-container-id-2 div.sk-estimator input.sk-toggleable__control:checked~label.sk-toggleable__label {background-color: #d4ebff;}#sk-container-id-2 div.sk-label input.sk-toggleable__control:checked~label.sk-toggleable__label {background-color: #d4ebff;}#sk-container-id-2 input.sk-hidden--visually {border: 0;clip: rect(1px 1px 1px 1px);clip: rect(1px, 1px, 1px, 1px);height: 1px;margin: -1px;overflow: hidden;padding: 0;position: absolute;width: 1px;}#sk-container-id-2 div.sk-estimator {font-family: monospace;background-color: #f0f8ff;border: 1px dotted black;border-radius: 0.25em;box-sizing: border-box;margin-bottom: 0.5em;}#sk-container-id-2 div.sk-estimator:hover {background-color: #d4ebff;}#sk-container-id-2 div.sk-parallel-item::after {content: \"\";width: 100%;border-bottom: 1px solid gray;flex-grow: 1;}#sk-container-id-2 div.sk-label:hover label.sk-toggleable__label {background-color: #d4ebff;}#sk-container-id-2 div.sk-serial::before {content: \"\";position: absolute;border-left: 1px solid gray;box-sizing: border-box;top: 0;bottom: 0;left: 50%;z-index: 0;}#sk-container-id-2 div.sk-serial {display: flex;flex-direction: column;align-items: center;background-color: white;padding-right: 0.2em;padding-left: 0.2em;position: relative;}#sk-container-id-2 div.sk-item {position: relative;z-index: 1;}#sk-container-id-2 div.sk-parallel {display: flex;align-items: stretch;justify-content: center;background-color: white;position: relative;}#sk-container-id-2 div.sk-item::before, #sk-container-id-2 div.sk-parallel-item::before {content: \"\";position: absolute;border-left: 1px solid gray;box-sizing: border-box;top: 0;bottom: 0;left: 50%;z-index: -1;}#sk-container-id-2 div.sk-parallel-item {display: flex;flex-direction: column;z-index: 1;position: relative;background-color: white;}#sk-container-id-2 div.sk-parallel-item:first-child::after {align-self: flex-end;width: 50%;}#sk-container-id-2 div.sk-parallel-item:last-child::after {align-self: flex-start;width: 50%;}#sk-container-id-2 div.sk-parallel-item:only-child::after {width: 0;}#sk-container-id-2 div.sk-dashed-wrapped {border: 1px dashed gray;margin: 0 0.4em 0.5em 0.4em;box-sizing: border-box;padding-bottom: 0.4em;background-color: white;}#sk-container-id-2 div.sk-label label {font-family: monospace;font-weight: bold;display: inline-block;line-height: 1.2em;}#sk-container-id-2 div.sk-label-container {text-align: center;}#sk-container-id-2 div.sk-container {/* jupyter's `normalize.less` sets `[hidden] { display: none; }` but bootstrap.min.css set `[hidden] { display: none !important; }` so we also need the `!important` here to be able to override the default hidden behavior on the sphinx rendered scikit-learn.org. See: https://github.com/scikit-learn/scikit-learn/issues/21755 */display: inline-block !important;position: relative;}#sk-container-id-2 div.sk-text-repr-fallback {display: none;}</style><div id=\"sk-container-id-2\" class=\"sk-top-container\"><div class=\"sk-text-repr-fallback\"><pre>SVC(kernel=&#x27;linear&#x27;)</pre><b>In a Jupyter environment, please rerun this cell to show the HTML representation or trust the notebook. <br />On GitHub, the HTML representation is unable to render, please try loading this page with nbviewer.org.</b></div><div class=\"sk-container\" hidden><div class=\"sk-item\"><div class=\"sk-estimator sk-toggleable\"><input class=\"sk-toggleable__control sk-hidden--visually\" id=\"sk-estimator-id-2\" type=\"checkbox\" checked><label for=\"sk-estimator-id-2\" class=\"sk-toggleable__label sk-toggleable__label-arrow\">SVC</label><div class=\"sk-toggleable__content\"><pre>SVC(kernel=&#x27;linear&#x27;)</pre></div></div></div></div></div>"
            ]
          },
          "metadata": {},
          "execution_count": 56
        }
      ]
    },
    {
      "cell_type": "code",
      "source": [
        "y_pred = svm_model.predict(X_test_tfidf)\n",
        "\n",
        "accuracy = accuracy_score(y, y_pred)\n",
        "print(f'Accuracy: {accuracy:.2f}')\n",
        "\n",
        "print('\\nClassification Report:')\n",
        "print(classification_report(y, y_pred))"
      ],
      "metadata": {
        "colab": {
          "base_uri": "https://localhost:8080/"
        },
        "id": "Bh39i_6nuRTl",
        "outputId": "0a7340a5-cf1a-47a6-bb33-393f7eb37f8f"
      },
      "execution_count": 57,
      "outputs": [
        {
          "output_type": "stream",
          "name": "stdout",
          "text": [
            "Accuracy: 0.95\n",
            "\n",
            "Classification Report:\n",
            "              precision    recall  f1-score   support\n",
            "\n",
            "        Bali       0.83      1.00      0.91         5\n",
            "     Finance       1.00      1.00      1.00         1\n",
            "       Jabar       1.00      1.00      1.00         2\n",
            "      Jateng       1.00      1.00      1.00         3\n",
            "       Jatim       1.00      1.00      1.00         1\n",
            "       Jogja       1.00      0.50      0.67         2\n",
            "      Sulsel       1.00      1.00      1.00         2\n",
            "       Sumut       1.00      1.00      1.00         4\n",
            "\n",
            "    accuracy                           0.95        20\n",
            "   macro avg       0.98      0.94      0.95        20\n",
            "weighted avg       0.96      0.95      0.94        20\n",
            "\n"
          ]
        }
      ]
    },
    {
      "cell_type": "markdown",
      "source": [
        "Diagram"
      ],
      "metadata": {
        "id": "Ju8FWEYv09mn"
      }
    },
    {
      "cell_type": "code",
      "source": [
        "# Membuat diagram batang\n",
        "report_dict = classification_report(y, y_pred, output_dict=True)\n",
        "labels = list(report_dict.keys())[:-3]  # Mengambil label kelas (excludes avg/total row)\n",
        "precision = [report_dict[label]['precision'] for label in labels]\n",
        "recall = [report_dict[label]['recall'] for label in labels]\n",
        "f1_score = [report_dict[label]['f1-score'] for label in labels]\n",
        "support = [report_dict[label]['support'] for label in labels]\n",
        "\n",
        "fig, ax = plt.subplots(figsize=(10, 6))\n",
        "\n",
        "bar_width = 0.2\n",
        "index = range(len(labels))\n",
        "\n",
        "bar1 = ax.bar(index, precision, bar_width, label='Precision')\n",
        "bar2 = ax.bar([i + bar_width for i in index], recall, bar_width, label='Recall')\n",
        "bar3 = ax.bar([i + 2 * bar_width for i in index], f1_score, bar_width, label='F1-Score')\n",
        "\n",
        "ax.set_xlabel('Classes')\n",
        "ax.set_ylabel('Scores')\n",
        "ax.set_title('Precision, Recall, and F1-Score')\n",
        "ax.set_xticks([i + bar_width for i in index])\n",
        "ax.set_xticklabels(labels)\n",
        "ax.legend()\n",
        "\n",
        "# Menambahkan nilai support di atas setiap bar\n",
        "for i, v in enumerate(support):\n",
        "    ax.text(i + bar_width / 2, v + 5, str(v), ha='center', va='bottom')\n",
        "\n",
        "plt.show()"
      ],
      "metadata": {
        "colab": {
          "base_uri": "https://localhost:8080/",
          "height": 1000
        },
        "id": "TKmcz_2lzyka",
        "outputId": "27fefd4a-98ec-44b4-bc9a-469624a5783b"
      },
      "execution_count": 58,
      "outputs": [
        {
          "output_type": "display_data",
          "data": {
            "text/plain": [
              "<Figure size 1000x600 with 1 Axes>"
            ],
            "image/png": "[encoded data removed]"
          },
          "metadata": {}
        }
      ]
    },
    {
      "cell_type": "code",
      "source": [
        "# Contoh data (gantilah dengan data yang sesuai)\n",
        "texts = X\n",
        "\n",
        "# Terjemahkan teks dari Bahasa Indonesia ke Bahasa Inggris\n",
        "translator = Translator()\n",
        "translated_texts = [translator.translate(text, src='id', dest='en').text for text in texts]\n",
        "\n",
        "text_list = []\n",
        "\n",
        "for l in range(len(X)):\n",
        "    text_list.append(\"text {}\".format(l+1))\n",
        "\n",
        "# Analisis sentimen untuk setiap teks yang sudah diterjemahkan\n",
        "sentiments = []\n",
        "for text in translated_texts:\n",
        "    analysis = TextBlob(text)\n",
        "    sentiment = analysis.sentiment.polarity\n",
        "    sentiments.append(sentiment)\n",
        "\n",
        "# Menampilkan hasil analisis sentimen\n",
        "for i, sentiment in enumerate(sentiments):\n",
        "    print(f'Translated Text {i+1}: {sentiment:.2f}')\n",
        "\n",
        "# Membuat diagram batang untuk sentimen\n",
        "fig, ax = plt.subplots()\n",
        "bars = ax.bar(range(len(translated_texts)), sentiments, color=['green' if s > 0 else 'red' if s < 0 else 'gray' for s in sentiments])\n",
        "ax.set_xticks(range(len(translated_texts)))\n",
        "ax.set_xticklabels(text_list, rotation=45, ha='right')\n",
        "ax.set_ylabel('Sentiment Polarity')\n",
        "ax.set_title('Sentiment Analysis (Translated)')\n",
        "\n",
        "# Menambahkan label di atas setiap bar\n",
        "for bar, sentiment in zip(bars, sentiments):\n",
        "    height = bar.get_height()\n",
        "    ax.text(bar.get_x() + bar.get_width()/2, height, f'{sentiment:.2f}', ha='center', va='bottom' if sentiment >= 0 else 'top', color='white' if sentiment != 0 else 'black')\n",
        "\n",
        "plt.show()\n"
      ],
      "metadata": {
        "colab": {
          "base_uri": "https://localhost:8080/",
          "height": 830
        },
        "id": "ExmRJtLn0WGe",
        "outputId": "d5bc3a03-6a63-4451-ae3c-323974f58f91"
      },
      "execution_count": 59,
      "outputs": [
        {
          "output_type": "stream",
          "name": "stdout",
          "text": [
            "Translated Text 1: 0.00\n",
            "Translated Text 2: 0.00\n",
            "Translated Text 3: 0.06\n",
            "Translated Text 4: 0.19\n",
            "Translated Text 5: 0.17\n",
            "Translated Text 6: 0.08\n",
            "Translated Text 7: -0.13\n",
            "Translated Text 8: -0.13\n",
            "Translated Text 9: 0.12\n",
            "Translated Text 10: 0.12\n",
            "Translated Text 11: -0.03\n",
            "Translated Text 12: 0.26\n",
            "Translated Text 13: 0.00\n",
            "Translated Text 14: 0.00\n",
            "Translated Text 15: 0.11\n",
            "Translated Text 16: 0.15\n",
            "Translated Text 17: 0.25\n",
            "Translated Text 18: -0.15\n",
            "Translated Text 19: 0.09\n",
            "Translated Text 20: 0.27\n"
          ]
        },
        {
          "output_type": "display_data",
          "data": {
            "text/plain": [
              "<Figure size 640x480 with 1 Axes>"
            ],
            "image/png": "[encoded data removed]"
          },
          "metadata": {}
        }
      ]
    },
    {
      "cell_type": "code",
      "source": [
        "if sum(sentiments) > 0 :\n",
        "    print(\"Kesimpulannya berita mengenai pencarian terkait mendapatkan banyak tanggapan positif dari masyarakat\")\n",
        "elif sum(sentiments) < 0 :\n",
        "    print(\"Kesimpulannya berita mengenai pencarian terkait mendapatkan banyak tanggapan negatif dari masyarakat \")\n",
        "else :\n",
        "    print(\"Kesimpulannya masyarakat tidak peduli\")"
      ],
      "metadata": {
        "colab": {
          "base_uri": "https://localhost:8080/"
        },
        "id": "vNGLNhAZ2dWb",
        "outputId": "86920972-e889-4cec-b54c-89029b520c06"
      },
      "execution_count": 64,
      "outputs": [
        {
          "output_type": "stream",
          "name": "stdout",
          "text": [
            "Kesimpulannya berita mengenai pencarian terkait mendapatkan banyak tanggapan positif dari masyarakat\n"
          ]
        }
      ]
    }
  ]
}